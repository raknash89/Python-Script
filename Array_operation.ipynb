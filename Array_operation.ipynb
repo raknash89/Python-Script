{
 "cells": [
  {
   "cell_type": "markdown",
   "metadata": {},
   "source": [
    "DSA Array"
   ]
  },
  {
   "cell_type": "code",
   "execution_count": 3,
   "metadata": {},
   "outputs": [],
   "source": [
    "from array import *"
   ]
  },
  {
   "cell_type": "code",
   "execution_count": 4,
   "metadata": {},
   "outputs": [],
   "source": [
    "arr = array('i',[1,2,3,4,5])"
   ]
  },
  {
   "cell_type": "code",
   "execution_count": 28,
   "metadata": {},
   "outputs": [
    {
     "data": {
      "text/plain": [
       "int"
      ]
     },
     "execution_count": 28,
     "metadata": {},
     "output_type": "execute_result"
    }
   ],
   "source": [
    "type(arr[0])"
   ]
  },
  {
   "cell_type": "markdown",
   "metadata": {},
   "source": [
    "Insert, Delete, Linear Search"
   ]
  },
  {
   "cell_type": "code",
   "execution_count": 12,
   "metadata": {},
   "outputs": [
    {
     "name": "stdout",
     "output_type": "stream",
     "text": [
      "i 0\n",
      "i 1\n",
      "i 2\n",
      "i 3\n",
      "C not present in arr 3\n",
      "Loop and Delete 3 array('i', [1, 2, 4, 5])\n"
     ]
    }
   ],
   "source": [
    "# arr.insert(len(arr),6)\n",
    "# print('Insert 6',arr)\n",
    "\n",
    "c = 3\n",
    "for i in range(0,len(arr)):\n",
    "    print('i',i)\n",
    "    if arr[i] == c:\n",
    "        print('match',i)\n",
    "        arr.pop(i)\n",
    "        break\n",
    "else:\n",
    "    print('C not present in arr',c)\n",
    "print('Loop and Delete 3',arr)"
   ]
  },
  {
   "cell_type": "code",
   "execution_count": 10,
   "metadata": {},
   "outputs": [
    {
     "data": {
      "text/plain": [
       "array('i', [2, 3])"
      ]
     },
     "execution_count": 10,
     "metadata": {},
     "output_type": "execute_result"
    }
   ],
   "source": [
    "arr[1:3]"
   ]
  },
  {
   "cell_type": "markdown",
   "metadata": {},
   "source": [
    "Binary Search"
   ]
  },
  {
   "cell_type": "code",
   "execution_count": 34,
   "metadata": {},
   "outputs": [],
   "source": [
    "#barray = [10,-1,0,5,8,13,9]\n",
    "barray = [10,-1,0,5,8,13,9]\n",
    "# barray.sort(reverse=False)\n",
    "# barray"
   ]
  },
  {
   "cell_type": "code",
   "execution_count": 13,
   "metadata": {},
   "outputs": [
    {
     "name": "stdout",
     "output_type": "stream",
     "text": [
      "[-1, 0, 5, 8, 9, 10, 13]\n",
      "0 3 8 -1\n",
      "0 1 0 -1\n",
      "equal 1\n"
     ]
    }
   ],
   "source": [
    "print(barray)\n",
    "l = 0\n",
    "r = len(barray)-1\n",
    "target = 0\n",
    "\n",
    "while l<=r:\n",
    "    num = (l+r)//2\n",
    "    print(l,num,barray[num],barray[l])\n",
    "    #l=l+1\n",
    "    if target == barray[num]:\n",
    "        print('equal',num)\n",
    "        break\n",
    "    elif target > barray[num]:\n",
    "        l = num+1\n",
    "    elif target < barray[num]:\n",
    "        r = num-1\n",
    "\n",
    "    "
   ]
  },
  {
   "cell_type": "markdown",
   "metadata": {},
   "source": [
    "Bubble Sort"
   ]
  },
  {
   "cell_type": "code",
   "execution_count": 35,
   "metadata": {},
   "outputs": [
    {
     "name": "stdout",
     "output_type": "stream",
     "text": [
      "[10, -1, 0, 5, 8, 13, 9]\n",
      "Bubble sort [-1, 0, 5, 8, 9, 10, 13]\n"
     ]
    }
   ],
   "source": [
    "print(barray)\n",
    "for i in range(0,len(barray)-1):\n",
    "    for j in range(0,len(barray)-1):\n",
    "        if barray[j] == barray[j+1]:\n",
    "            continue\n",
    "        if barray[j] > barray[j+1]:\n",
    "            barray[j],barray[j+1]=barray[j+1],barray[j]\n",
    "\n",
    "print('Bubble sort',barray)"
   ]
  },
  {
   "cell_type": "code",
   "execution_count": 33,
   "metadata": {},
   "outputs": [
    {
     "name": "stdout",
     "output_type": "stream",
     "text": [
      "[10, -1, 0, 5, 8, 13, 9]\n",
      "cnt 1 [10, -1, 0, 5, 8, 13, 9]\n",
      "cnt 2 [-1, 0, 5, 8, 10, 9, 13]\n",
      "cnt 3 [-1, 0, 5, 8, 9, 10, 13]\n",
      "Bubble sort [-1, 0, 5, 8, 9, 10, 13]\n"
     ]
    }
   ],
   "source": [
    "print(barray)\n",
    "a=True\n",
    "cnt = 1\n",
    "while (True):\n",
    "    a=True\n",
    "    print('cnt',cnt,barray)\n",
    "    cnt+=1\n",
    "    for j in range(0,len(barray)-1):\n",
    "        if barray[j] > barray[j+1]:\n",
    "            barray[j],barray[j+1]=barray[j+1],barray[j]\n",
    "            a=False\n",
    "    if a==False:\n",
    "        continue\n",
    "    elif a==True:\n",
    "        break\n",
    "print('Bubble sort',barray)"
   ]
  }
 ],
 "metadata": {
  "kernelspec": {
   "display_name": "Python 3",
   "language": "python",
   "name": "python3"
  },
  "language_info": {
   "codemirror_mode": {
    "name": "ipython",
    "version": 3
   },
   "file_extension": ".py",
   "mimetype": "text/x-python",
   "name": "python",
   "nbconvert_exporter": "python",
   "pygments_lexer": "ipython3",
   "version": "3.12.3"
  }
 },
 "nbformat": 4,
 "nbformat_minor": 2
}

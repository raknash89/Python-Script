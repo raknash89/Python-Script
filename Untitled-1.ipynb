{
 "cells": [
  {
   "cell_type": "markdown",
   "metadata": {},
   "source": [
    "Leading Zero append to last"
   ]
  },
  {
   "cell_type": "code",
   "execution_count": 2,
   "metadata": {},
   "outputs": [],
   "source": [
    "nums = [0,1,0,3,12]\n",
    "#nums = [1]\n",
    "#print(nums[0])"
   ]
  },
  {
   "cell_type": "code",
   "execution_count": 3,
   "metadata": {},
   "outputs": [
    {
     "name": "stdout",
     "output_type": "stream",
     "text": [
      "0\n",
      "1\n",
      "temp 1\n",
      "0\n",
      "3\n",
      "temp 3\n",
      "12\n",
      "temp 12\n",
      "[1, 3, 12, 0, 0]\n"
     ]
    }
   ],
   "source": [
    "left = 0\n",
    "right = len(nums)-1\n",
    "\n",
    "for i in range(0,len(nums)):\n",
    "    print(nums[i])\n",
    "    if nums[i] != 0:\n",
    "        temp = nums[i]\n",
    "        print('temp',temp)\n",
    "        nums[i] = 0\n",
    "        nums[left] = temp      \n",
    "        left+=1\n",
    "\n",
    "print(nums)"
   ]
  },
  {
   "cell_type": "code",
   "execution_count": null,
   "metadata": {},
   "outputs": [],
   "source": [
    "s=\"axc\"\n",
    "t =\"ahbgdc\"\n",
    "a = 0\n",
    "b = 0"
   ]
  },
  {
   "cell_type": "code",
   "execution_count": null,
   "metadata": {},
   "outputs": [],
   "source": [
    "while a <len(s) and b<len(t):\n",
    "    if s[a] == t[b]:\n",
    "        a+=1\n",
    "    b+=1"
   ]
  },
  {
   "cell_type": "code",
   "execution_count": null,
   "metadata": {},
   "outputs": [],
   "source": [
    "if a == len(s):\n",
    "    print('True')\n",
    "else:\n",
    "    print('False')"
   ]
  },
  {
   "cell_type": "markdown",
   "metadata": {},
   "source": [
    "Maximum area"
   ]
  },
  {
   "cell_type": "code",
   "execution_count": 14,
   "metadata": {},
   "outputs": [
    {
     "name": "stdout",
     "output_type": "stream",
     "text": [
      "6\n"
     ]
    }
   ],
   "source": [
    "#height = [1,8,6,2,5,4,8,3,7]\n",
    "height = [2,3,4,5,18,17,6]\n",
    "left = 0\n",
    "right = len(height) -1\n",
    "maxArea = 0"
   ]
  },
  {
   "cell_type": "code",
   "execution_count": 12,
   "metadata": {},
   "outputs": [
    {
     "name": "stdout",
     "output_type": "stream",
     "text": [
      "left 0 right 6\n",
      "height[left] 2 , height[right] 6 , right-left 6 \n",
      "minNum 12\n",
      "left 1 right 6\n",
      "height[left] 3 , height[right] 6 , right-left 5 \n",
      "minNum 15\n",
      "left 2 right 6\n",
      "height[left] 4 , height[right] 6 , right-left 4 \n",
      "minNum 16\n",
      "left 3 right 6\n",
      "height[left] 5 , height[right] 6 , right-left 3 \n",
      "minNum 15\n",
      "left 4 right 6\n",
      "height[left] 18 , height[right] 6 , right-left 2 \n",
      "minNum 12\n",
      "left 4 right 5\n",
      "height[left] 18 , height[right] 17 , right-left 1 \n",
      "minNum 17\n"
     ]
    }
   ],
   "source": [
    "while left < right:\n",
    "    print('left',left,'right',right)\n",
    "    print(f\"height[left] {height[left]} , height[right] {height[right]} , right-left {right - left} \")\n",
    "    minNum = min(height[left],height[right]) * (right-left)\n",
    "    print('minNum',minNum)\n",
    "    if height[left] < height[right]:\n",
    "        left+=1\n",
    "    else:\n",
    "        right-=1"
   ]
  },
  {
   "cell_type": "markdown",
   "metadata": {},
   "source": [
    "Max Average sum of value"
   ]
  },
  {
   "cell_type": "code",
   "execution_count": 30,
   "metadata": {},
   "outputs": [
    {
     "name": "stdout",
     "output_type": "stream",
     "text": [
      "50\n"
     ]
    }
   ],
   "source": [
    "nums = [1,12,-5,-6,50,3]\n",
    "k=4\n",
    "print(nums[0+k])# nums = [5]\n",
    "# k = 1\n",
    "# nums = [-1]\n",
    "# k = 1"
   ]
  },
  {
   "cell_type": "code",
   "execution_count": 32,
   "metadata": {},
   "outputs": [
    {
     "name": "stdout",
     "output_type": "stream",
     "text": [
      "bef [1, 12, -5, -6] 2\n",
      "aft 1 1\n",
      "final 50 51\n",
      "bef [1, 12, -5, -6] 51\n",
      "aft 12 39\n",
      "final 3 42\n",
      "bef [1, 12, -5, -6] 42\n"
     ]
    }
   ],
   "source": [
    "sum_val = sum(nums[:k])\n",
    "mval = -float('inf')\n",
    "\n",
    "for i in range(len(nums)-k+1):\n",
    "    print('bef',nums[:k],sum_val)\n",
    "    avg = sum_val/k\n",
    "    mval = max(mval,avg)\n",
    "\n",
    "    if i + k < len(nums):\n",
    "        sum_val -= nums[i]\n",
    "        print('aft',nums[i],sum_val)\n",
    "        sum_val += nums[i+k]\n",
    "        print('final',nums[i+k],sum_val)"
   ]
  },
  {
   "cell_type": "code",
   "execution_count": null,
   "metadata": {},
   "outputs": [],
   "source": [
    "left = 0 \n",
    "length = len(nums) \n",
    "\n",
    "right = k\n",
    "mazNum = -float('inf')\n",
    "while left < length and left <= (length-k) :\n",
    "    print(nums[left:right])\n",
    "    print(sum(nums[left:right])/k)\n",
    "    mazNum = max(mazNum,sum(nums[left:right])/k)\n",
    "    right = right+1\n",
    "    left = left+1\n",
    "print(mazNum)"
   ]
  },
  {
   "cell_type": "code",
   "execution_count": null,
   "metadata": {},
   "outputs": [],
   "source": [
    "s = 'abciiidef'\n",
    "k = 3\n"
   ]
  },
  {
   "cell_type": "code",
   "execution_count": null,
   "metadata": {},
   "outputs": [],
   "source": [
    "for i in range(k,len(s)):\n",
    "    print('i',s[i])\n",
    "    print('-',i-k,s[i-k])"
   ]
  },
  {
   "cell_type": "code",
   "execution_count": 34,
   "metadata": {},
   "outputs": [
    {
     "name": "stdout",
     "output_type": "stream",
     "text": [
      "window_sum [1, 4, 2, 10] 17\n",
      "1\n",
      "progress : 17 - 1 + 2\n",
      "4\n",
      "progress : 18 - 4 + 3\n",
      "2\n",
      "progress : 17 - 2 + 1\n",
      "10\n",
      "progress : 16 - 10 + 0\n",
      "2\n",
      "progress : 6 - 2 + 20\n",
      "24\n"
     ]
    }
   ],
   "source": [
    "def max_sum_subarray(arr, k):\n",
    "  \"\"\"\n",
    "  Finds the maximum sum of a subarray of size k in the given array.\n",
    "\n",
    "  Args:\n",
    "    arr: The input array.\n",
    "    k: The size of the subarray.\n",
    "\n",
    "  Returns:\n",
    "    The maximum sum of a subarray of size k.\n",
    "  \"\"\"\n",
    "\n",
    "  n = len(arr)\n",
    "\n",
    "  if n < k:\n",
    "    print(\"Invalid\")\n",
    "    return -1\n",
    "\n",
    "  # Initialize current window sum\n",
    "  window_sum = sum(arr[:k])\n",
    "  print('window_sum',arr[:k],window_sum)\n",
    "  max_sum = window_sum\n",
    "\n",
    "  # Slide the window\n",
    "  for i in range(n - k):\n",
    "    print(arr[i])\n",
    "    print(f\"progress : {window_sum} - {arr[i]} + {arr[i + k]}\")\n",
    "    window_sum = window_sum - arr[i] + arr[i + k]\n",
    "    \n",
    "    max_sum = max(max_sum, window_sum)\n",
    "\n",
    "  return max_sum\n",
    "\n",
    "# Example usage\n",
    "arr = [1, 4, 2, 10, 2, 3, 1, 0, 20]\n",
    "k = 4\n",
    "print(max_sum_subarray(arr, k))\n"
   ]
  },
  {
   "cell_type": "code",
   "execution_count": 58,
   "metadata": {},
   "outputs": [
    {
     "name": "stdout",
     "output_type": "stream",
     "text": [
      "{'a': 1}\n",
      "{'a': 1, 'b': 1}\n",
      "{'a': 1, 'b': 1, 'c': 1}\n",
      "{'a': 2, 'b': 1, 'c': 1}\n",
      "{'a': 2, 'b': 2, 'c': 1}\n",
      "{'a': 2, 'b': 2, 'c': 2}\n",
      "{'a': 2, 'b': 3, 'c': 2}\n",
      "{'a': 2, 'b': 4, 'c': 2}\n",
      "final {'a': 2, 'b': 4, 'c': 2}\n"
     ]
    }
   ],
   "source": [
    "s = \"abcabcbb\"\n",
    "k = 2\n",
    "char_set = set()\n",
    "char_count = {}\n",
    "l = 0\n",
    "\n",
    "for i in range(len(s)):\n",
    "    char_set.add(s[i])\n",
    "    #print(char_set)\n",
    "    char_count[s[i]] = char_count.get(s[i],0)+1\n",
    "    print(char_count)\n",
    "\n",
    "    if len(char_count) > k:\n",
    "        del char_count[s[l]]\n",
    "        char_set.remove(s[l])\n",
    "        l+=1\n",
    "print('final',char_count)\n",
    "    # for r in range(len(char_set)):\n",
    "    #     print('loop',char_count[s[l]])\n",
    "    #     if len(char_set)  > k:\n",
    "    #         char_count[s[l]] -= 1\n",
    "    #     if char_count[s[l]] == 0:\n",
    "    #         del char_count[s[l]]\n",
    "    #         char_set.remove(s[l])\n",
    "    #     if l < k:\n",
    "    #         l+=1"
   ]
  },
  {
   "cell_type": "code",
   "execution_count": 1,
   "metadata": {},
   "outputs": [
    {
     "name": "stdout",
     "output_type": "stream",
     "text": [
      "char_set.add {'a'}\n",
      "char_count.get(s[r], 0) 0\n",
      "char_count[s[r]] 1\n",
      "char_set.add {'a', 'b'}\n",
      "char_count.get(s[r], 0) 0\n",
      "char_count[s[r]] 1\n",
      "char_set.add {'a', 'c', 'b'}\n",
      "char_count.get(s[r], 0) 0\n",
      "char_count[s[r]] 1\n",
      "char_set.add {'a', 'c', 'b'}\n",
      "char_count.get(s[r], 0) 0\n",
      "char_count[s[r]] 1\n",
      "char_set.add {'a', 'c', 'b'}\n",
      "char_count.get(s[r], 0) 0\n",
      "char_count[s[r]] 1\n",
      "char_set.add {'a', 'c', 'b'}\n",
      "char_count.get(s[r], 0) 0\n",
      "char_count[s[r]] 1\n",
      "char_set.add {'c', 'b'}\n",
      "char_count.get(s[r], 0) 1\n",
      "char_count[s[r]] 2\n",
      "char_set.add {'c', 'b'}\n",
      "char_count.get(s[r], 0) 2\n",
      "char_count[s[r]] 3\n",
      "4\n"
     ]
    }
   ],
   "source": [
    "def length_of_longest_substring(s, k):\n",
    "  \"\"\"\n",
    "  Finds the length of the longest substring with at most k distinct characters.\n",
    "\n",
    "  Args:\n",
    "    s: The input string.\n",
    "    k: The maximum number of distinct characters allowed.\n",
    "\n",
    "  Returns:\n",
    "    The length of the longest substring.\n",
    "  \"\"\"\n",
    "\n",
    "  n = len(s)\n",
    "  if n * k == 0:\n",
    "    return 0\n",
    "\n",
    "  # Set to store unique characters\n",
    "  char_set = set()\n",
    "  # Dictionary to store character counts (or a list of size 256)\n",
    "  char_count = {}  # or char_count = [0] * 256\n",
    "\n",
    "  l, r, max_len = 0, 0, 0\n",
    "\n",
    "  while r < n:\n",
    "    char_set.add(s[r])\n",
    "    char_count[s[r]] = char_count.get(s[r], 0) + 1\n",
    "\n",
    "    # If the number of distinct characters exceeds k, shrink the window\n",
    "    while len(char_set) > k:\n",
    "      char_count[s[l]] -= 1\n",
    "      if char_count[s[l]] == 0:\n",
    "        del char_count[s[l]]\n",
    "        char_set.remove(s[l])\n",
    "      l += 1\n",
    "\n",
    "    max_len = max(max_len, r - l + 1)\n",
    "    r += 1\n",
    "\n",
    "  return max_len\n",
    "\n",
    "# Example usage\n",
    "s = \"abcabcbb\"\n",
    "k = 2\n",
    "print(length_of_longest_substring(s, k))"
   ]
  },
  {
   "cell_type": "code",
   "execution_count": null,
   "metadata": {},
   "outputs": [],
   "source": [
    "c_count = {}\n",
    "n=0\n",
    "char_set = set()\n",
    "l = 0\n",
    "while n<len(s):\n",
    "    char_set.add(s[n])\n",
    "    print(s[n])\n",
    "    c_count[s[n]] = c_count.get(s[n],0)\n",
    "    n+=1\n",
    "    while len(char_set) > k:\n",
    "      print(l)\n",
    "      c_count[s[l]] -= 1\n",
    "      if c_count[s[l]] == 0:\n",
    "        del c_count[s[l]]\n",
    "        char_set.remove(s[l])\n",
    "      l += 1\n",
    "\n",
    "print(c_count)\n",
    "print(char_set)"
   ]
  }
 ],
 "metadata": {
  "kernelspec": {
   "display_name": "Python 3",
   "language": "python",
   "name": "python3"
  },
  "language_info": {
   "codemirror_mode": {
    "name": "ipython",
    "version": 3
   },
   "file_extension": ".py",
   "mimetype": "text/x-python",
   "name": "python",
   "nbconvert_exporter": "python",
   "pygments_lexer": "ipython3",
   "version": "3.12.3"
  }
 },
 "nbformat": 4,
 "nbformat_minor": 2
}

{
 "cells": [
  {
   "cell_type": "markdown",
   "metadata": {},
   "source": [
    "Binary Tree"
   ]
  },
  {
   "cell_type": "code",
   "execution_count": 44,
   "metadata": {},
   "outputs": [],
   "source": [
    "class Node:\n",
    "    def __init__(self,data):\n",
    "        self.data = data\n",
    "        self.left = None\n",
    "        self.right = None\n",
    "        return\n",
    "\n",
    "class BinaryTree:\n",
    "\n",
    "    def __init__(self):\n",
    "        self.root = None\n",
    "    \n",
    "    def add(self,data):\n",
    "        if not self.root:\n",
    "            self.root=Node(data)\n",
    "            print('add self.root',self.root)\n",
    "            return\n",
    "        \n",
    "        self.recursiveAdd(data,self.root)\n",
    "    \n",
    "    def recursiveAdd(self,data,node):\n",
    "        if not node.left:\n",
    "            node.left = Node(data)\n",
    "            print('add self.left',node.left)\n",
    "        elif not node.right:\n",
    "            node.right = Node(data)\n",
    "            print('add self.right',node.right)\n",
    "        else:\n",
    "            self.recursiveAdd(data,node.left)\n",
    "    \n",
    "    def display(self,depth=0,node=None):\n",
    "        if not node:\n",
    "            node  = self.root\n",
    "        \n",
    "        print(\" \"*depth,node.data)\n",
    "\n",
    "        if node.left:\n",
    "            self.display(depth+1,node.left)\n",
    "        if node.right:\n",
    "            self.display(depth+1,node.right)\n",
    "\n",
    "    def remove(self,data):\n",
    "\n",
    "        if not self.root:\n",
    "            print(\"binary Tree is empty\")\n",
    "            return\n",
    "        \n",
    "        if self.root.data ==data:\n",
    "            self.root=None\n",
    "            return\n",
    "        \n",
    "        self.recursiveRemove(data,self.root)\n",
    "\n",
    "    def recursiveRemove(self,data,node):\n",
    "        if node.left and node.left.data == data:\n",
    "            node.left=None\n",
    "            return\n",
    "        if node.right and node.right.data == data:\n",
    "            node.right=None\n",
    "            return\n",
    "        \n",
    "        if node.left:\n",
    "            self.recursiveRemove(data,node.left)\n",
    "        if node.right:\n",
    "            self.recursiveRemove(data,node.right)\n",
    "\n",
    "    def search(self,data):\n",
    "        res = self.recursiveSearch(data,self.root)\n",
    "\n",
    "        if res:\n",
    "            print('True',res)\n",
    "        else:\n",
    "            print('False')\n",
    "    \n",
    "    def recursiveSearch(self,data,node):\n",
    "        if not node or node.data == data:\n",
    "            return node\n",
    "        \n",
    "        return self.recursiveSearch(data,node.left) or self.recursiveSearch(data,node.right)\n",
    "\n"
   ]
  },
  {
   "cell_type": "code",
   "execution_count": 45,
   "metadata": {},
   "outputs": [
    {
     "name": "stdout",
     "output_type": "stream",
     "text": [
      "add self.root <__main__.Node object at 0x000002571A6876B0>\n",
      "add self.left <__main__.Node object at 0x000002571A687BF0>\n",
      "add self.right <__main__.Node object at 0x000002571A65FDD0>\n",
      "add self.left <__main__.Node object at 0x000002571A65D070>\n",
      "add self.right <__main__.Node object at 0x000002571A65EB70>\n",
      "add self.left <__main__.Node object at 0x000002571A65D7F0>\n"
     ]
    }
   ],
   "source": [
    "b = BinaryTree()\n",
    "b.add(5)\n",
    "b.add(1)\n",
    "b.add(2)\n",
    "b.add(3)\n",
    "b.add(4)\n",
    "b.add(5)\n",
    "#b.add(46)"
   ]
  },
  {
   "cell_type": "code",
   "execution_count": 41,
   "metadata": {},
   "outputs": [
    {
     "name": "stdout",
     "output_type": "stream",
     "text": [
      " 5\n",
      "  1\n",
      "   3\n",
      "    5\n",
      "   4\n",
      "  2\n"
     ]
    }
   ],
   "source": [
    "b.display()"
   ]
  },
  {
   "cell_type": "code",
   "execution_count": 46,
   "metadata": {},
   "outputs": [
    {
     "name": "stdout",
     "output_type": "stream",
     "text": [
      "True <__main__.Node object at 0x000002571A65EB70>\n"
     ]
    }
   ],
   "source": [
    "b.search(4)"
   ]
  },
  {
   "cell_type": "markdown",
   "metadata": {},
   "source": [
    "Binary Tree Search - Traversal \n",
    "\n",
    "inorderTraversal - DFS Depth First Search\n",
    "\n",
    "InOrder,\n",
    "PreOrder,\n",
    "PostOrder"
   ]
  },
  {
   "cell_type": "code",
   "execution_count": 50,
   "metadata": {},
   "outputs": [],
   "source": [
    "class BTSNode:\n",
    "    def __init__(self,data):\n",
    "        self.data = data\n",
    "        self.left = None\n",
    "        self.right = None\n",
    "\n",
    "class BinaryTreeSearch:\n",
    "    def __init__(self):\n",
    "        self.root = None\n",
    "    \n",
    "    def add(self,data):\n",
    "        if not self.root:\n",
    "            self.root = BTSNode(data)\n",
    "            return\n",
    "        \n",
    "        self.recursiveAdd(data,self.root)\n",
    "\n",
    "    def recursiveAdd(self,data,node):\n",
    "        if data < node.data:\n",
    "            if not node.left:\n",
    "                node.left = BTSNode(data)\n",
    "            else:\n",
    "                self.recursiveAdd(data,node.left)\n",
    "        \n",
    "        elif data > node.data:\n",
    "            if not node.right:\n",
    "                node.right = BTSNode(data)\n",
    "            else:\n",
    "                self.recursiveAdd(data,node.right)\n",
    "\n",
    "    def display(self):\n",
    "        result = []\n",
    "        self.inorderTraversal(self.root,result) # [1, 9, 10, 11, 45, 46, 50, 51]\n",
    "        #self.preorderTraversal(self.root,result) # [45, 10, 9, 1, 11, 50, 46, 51]\n",
    "        #self.postorderTraversal(self.root,result) # [1, 9, 11, 10, 46, 51, 50, 45]\n",
    "        print(result)\n",
    "\n",
    "    #  Left, Root[Current],Right\n",
    "    def inorderTraversal(self,node,result):\n",
    "        if not node:\n",
    "            return None\n",
    "        else:\n",
    "            self.inorderTraversal(node.left,result)\n",
    "            result.append(node.data)\n",
    "            self.inorderTraversal(node.right,result)\n",
    "    \n",
    "    #  Root[Current],left,Right\n",
    "    def preorderTraversal(self,node,result):\n",
    "        if not node:\n",
    "            return None\n",
    "        else:\n",
    "            result.append(node.data)\n",
    "            self.preorderTraversal(node.left,result)\n",
    "            self.preorderTraversal(node.right,result)\n",
    "\n",
    "    # Left,right,Root[Current]\n",
    "    def postorderTraversal(self,node,result):\n",
    "        if not node:\n",
    "            return None\n",
    "        else:\n",
    "            self.postorderTraversal(node.left,result)\n",
    "            self.postorderTraversal(node.right,result)\n",
    "            result.append(node.data)\n",
    "\n",
    "    def remove(self,data):\n",
    "        if not self.root:\n",
    "            return None\n",
    "        \n",
    "        if self.root.data == data:\n",
    "            self.root = None\n",
    "            return\n",
    "        self.removeRecursive(self.root,data)\n",
    "    \n",
    "    def removeRecursive(self,node,data):\n",
    "        if node.left and node.left.data == data:\n",
    "            node.left = None\n",
    "            return\n",
    "\n",
    "        elif node.right and  node.right.data == data:\n",
    "            node.right = None\n",
    "            return\n",
    "        \n",
    "        elif data < node.left:\n",
    "            self.removeRecursive(node.left,data)\n",
    "        else:\n",
    "            self.removeRecursive(node.right,data)\n",
    "        \n",
    "    def search(self,data):\n",
    "        node = self.recursiveSearch(self.root,data)\n",
    "\n",
    "        if node:\n",
    "            print('Search Result',node.data,node.left,node.right)\n",
    "    \n",
    "    def recursiveSearch(self,node,data):\n",
    "        if node and node.data == data:\n",
    "            return node\n",
    "        elif data < node.data:\n",
    "            print('Search node.left',node.left,data)\n",
    "            return self.recursiveSearch(node.left,data)\n",
    "        elif data > node.data:\n",
    "            print('Search node.right',node.left,data)\n",
    "            return self.recursiveSearch(node.right,data)"
   ]
  },
  {
   "cell_type": "code",
   "execution_count": 51,
   "metadata": {},
   "outputs": [],
   "source": [
    "b = BinaryTreeSearch()"
   ]
  },
  {
   "cell_type": "code",
   "execution_count": 52,
   "metadata": {},
   "outputs": [
    {
     "name": "stdout",
     "output_type": "stream",
     "text": [
      "[1, 9, 10, 11, 45, 46, 50, 51]\n"
     ]
    }
   ],
   "source": [
    "b.add(45)\n",
    "b.add(10)\n",
    "b.add(50)\n",
    "b.add(9)\n",
    "b.add(11)\n",
    "b.add(46)\n",
    "b.add(51)\n",
    "b.add(1)\n",
    "b.display()"
   ]
  },
  {
   "cell_type": "code",
   "execution_count": 55,
   "metadata": {},
   "outputs": [
    {
     "name": "stdout",
     "output_type": "stream",
     "text": [
      "Search node.left <__main__.BTSNode object at 0x0000021058EC7CB0> 10\n",
      "Search Result 10 <__main__.BTSNode object at 0x0000021058EC4500> <__main__.BTSNode object at 0x0000021058EC5040>\n"
     ]
    }
   ],
   "source": [
    "#b.remove(10)\n",
    "#b.display()\n",
    "b.search(10)"
   ]
  }
 ],
 "metadata": {
  "kernelspec": {
   "display_name": "Python 3",
   "language": "python",
   "name": "python3"
  },
  "language_info": {
   "codemirror_mode": {
    "name": "ipython",
    "version": 3
   },
   "file_extension": ".py",
   "mimetype": "text/x-python",
   "name": "python",
   "nbconvert_exporter": "python",
   "pygments_lexer": "ipython3",
   "version": "3.12.3"
  }
 },
 "nbformat": 4,
 "nbformat_minor": 2
}
